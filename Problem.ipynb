{
 "cells": [
  {
   "cell_type": "code",
   "execution_count": null,
   "metadata": {
    "editable": true
   },
   "outputs": [],
   "source": []
  },
  {
   "cell_type": "code",
   "execution_count": 1,
   "metadata": {
    "editable": true
   },
   "outputs": [
    {
     "ename": "ModuleNotFoundError",
     "evalue": "No module named 'ocs'",
     "output_type": "error",
     "traceback": [
      "\u001b[0;31m---------------------------------------------------------------------------\u001b[0m",
      "\u001b[0;31mModuleNotFoundError\u001b[0m                       Traceback (most recent call last)",
      "\u001b[0;32m<ipython-input-1-d23759a6bbe6>\u001b[0m in \u001b[0;36m<module>\u001b[0;34m()\u001b[0m\n\u001b[1;32m      2\u001b[0m \u001b[0;32mimport\u001b[0m \u001b[0mpandas\u001b[0m \u001b[0;32mas\u001b[0m \u001b[0mpd\u001b[0m\u001b[0;34m\u001b[0m\u001b[0m\n\u001b[1;32m      3\u001b[0m \u001b[0;32mimport\u001b[0m \u001b[0mimportlib\u001b[0m\u001b[0;34m\u001b[0m\u001b[0m\n\u001b[0;32m----> 4\u001b[0;31m \u001b[0;32mimport\u001b[0m \u001b[0mocs\u001b[0m\u001b[0;34m\u001b[0m\u001b[0m\n\u001b[0m\u001b[1;32m      5\u001b[0m \u001b[0;32mimport\u001b[0m \u001b[0mconfigparser\u001b[0m\u001b[0;34m\u001b[0m\u001b[0m\n\u001b[1;32m      6\u001b[0m \u001b[0;32mimport\u001b[0m \u001b[0mdatetime\u001b[0m \u001b[0;32mas\u001b[0m \u001b[0mdt\u001b[0m\u001b[0;34m\u001b[0m\u001b[0m\n",
      "\u001b[0;31mModuleNotFoundError\u001b[0m: No module named 'ocs'"
     ]
    }
   ],
   "source": [
    "# Imports and installs\n",
    "import pandas as pd\n",
    "import importlib\n",
    "import os\n",
    "import configparser\n",
    "import datetime as dt\n",
    "\n",
    "from pyspark.sql import SparkSession\n",
    "from pyspark.sql.functions import monotonically_increasing_id\n",
    "from pyspark.sql.functions import isnan, when, count, col, udf, dayofmonth, dayofweek, month, year, weekofyear\n",
    "\n"
   ]
  },
  {
   "cell_type": "code",
   "execution_count": null,
   "metadata": {
    "editable": true
   },
   "outputs": [],
   "source": [
    "config = configparser.ConfigParser()\n",
    "config.read('iam.cfg')\n",
    "os.environ['AWS_ACCESS_KEY_ID']=config['AWS_CREDS']['AWS_ACCESS_KEY_ID']\n",
    "os.environ['AWS_SECRET_ACCESS_KEY']=config['AWS_CREDS']['AWS_SECRET_ACCESS_KEY']\n",
    "\n",
    "spark = SparkSession.builder.\\\n",
    "    config(\"spark.jars.packages\",\"saurfang:spark-sas7bdat:2.0.0-s_2.11\").\\\n",
    "    enableHiveSupport().getOrCreate()"
   ]
  },
  {
   "cell_type": "markdown",
   "metadata": {
    "editable": true
   },
   "source": [
    "#### World Happiness dataset\n",
    "<hr style=\"background-color: #b7d0e2;\"/> \n",
    "\n",
    "Import and check world happiness dataset for 2016 year"
   ]
  },
  {
   "cell_type": "code",
   "execution_count": 3,
   "metadata": {
    "editable": true
   },
   "outputs": [
    {
     "data": {
      "text/plain": [
       "157"
      ]
     },
     "execution_count": 3,
     "metadata": {},
     "output_type": "execute_result"
    }
   ],
   "source": [
    "# Read in the data and count\n",
    "file_name = \"happiness_2016.csv\"\n",
    "happy_df = spark.read.csv(file_name, inferSchema=True, header=True, sep=',')\n",
    "happy_df.count()"
   ]
  },
  {
   "cell_type": "code",
   "execution_count": 4,
   "metadata": {
    "editable": true
   },
   "outputs": [
    {
     "data": {
      "text/html": [
       "<div>\n",
       "<style scoped>\n",
       "    .dataframe tbody tr th:only-of-type {\n",
       "        vertical-align: middle;\n",
       "    }\n",
       "\n",
       "    .dataframe tbody tr th {\n",
       "        vertical-align: top;\n",
       "    }\n",
       "\n",
       "    .dataframe thead th {\n",
       "        text-align: right;\n",
       "    }\n",
       "</style>\n",
       "<table border=\"1\" class=\"dataframe\">\n",
       "  <thead>\n",
       "    <tr style=\"text-align: right;\">\n",
       "      <th></th>\n",
       "      <th>Country</th>\n",
       "      <th>Region</th>\n",
       "      <th>Happy_Rank</th>\n",
       "      <th>Happy_Score</th>\n",
       "      <th>lconf_level</th>\n",
       "      <th>Hconf_level</th>\n",
       "      <th>Economy</th>\n",
       "      <th>Family</th>\n",
       "      <th>Health</th>\n",
       "      <th>Freedom</th>\n",
       "      <th>Trust</th>\n",
       "      <th>Generosity</th>\n",
       "      <th>Dystopia_res</th>\n",
       "    </tr>\n",
       "  </thead>\n",
       "  <tbody>\n",
       "    <tr>\n",
       "      <th>0</th>\n",
       "      <td>Denmark</td>\n",
       "      <td>Western Europe</td>\n",
       "      <td>1</td>\n",
       "      <td>7.526</td>\n",
       "      <td>7.460</td>\n",
       "      <td>7.592</td>\n",
       "      <td>1.44178</td>\n",
       "      <td>1.16374</td>\n",
       "      <td>0.79504</td>\n",
       "      <td>0.57941</td>\n",
       "      <td>0.44453</td>\n",
       "      <td>0.36171</td>\n",
       "      <td>2.73939</td>\n",
       "    </tr>\n",
       "    <tr>\n",
       "      <th>1</th>\n",
       "      <td>Switzerland</td>\n",
       "      <td>Western Europe</td>\n",
       "      <td>2</td>\n",
       "      <td>7.509</td>\n",
       "      <td>7.428</td>\n",
       "      <td>7.590</td>\n",
       "      <td>1.52733</td>\n",
       "      <td>1.14524</td>\n",
       "      <td>0.86303</td>\n",
       "      <td>0.58557</td>\n",
       "      <td>0.41203</td>\n",
       "      <td>0.28083</td>\n",
       "      <td>2.69463</td>\n",
       "    </tr>\n",
       "    <tr>\n",
       "      <th>2</th>\n",
       "      <td>Iceland</td>\n",
       "      <td>Western Europe</td>\n",
       "      <td>3</td>\n",
       "      <td>7.501</td>\n",
       "      <td>7.333</td>\n",
       "      <td>7.669</td>\n",
       "      <td>1.42666</td>\n",
       "      <td>1.18326</td>\n",
       "      <td>0.86733</td>\n",
       "      <td>0.56624</td>\n",
       "      <td>0.14975</td>\n",
       "      <td>0.47678</td>\n",
       "      <td>2.83137</td>\n",
       "    </tr>\n",
       "    <tr>\n",
       "      <th>3</th>\n",
       "      <td>Norway</td>\n",
       "      <td>Western Europe</td>\n",
       "      <td>4</td>\n",
       "      <td>7.498</td>\n",
       "      <td>7.421</td>\n",
       "      <td>7.575</td>\n",
       "      <td>1.57744</td>\n",
       "      <td>1.12690</td>\n",
       "      <td>0.79579</td>\n",
       "      <td>0.59609</td>\n",
       "      <td>0.35776</td>\n",
       "      <td>0.37895</td>\n",
       "      <td>2.66465</td>\n",
       "    </tr>\n",
       "    <tr>\n",
       "      <th>4</th>\n",
       "      <td>Finland</td>\n",
       "      <td>Western Europe</td>\n",
       "      <td>5</td>\n",
       "      <td>7.413</td>\n",
       "      <td>7.351</td>\n",
       "      <td>7.475</td>\n",
       "      <td>1.40598</td>\n",
       "      <td>1.13464</td>\n",
       "      <td>0.81091</td>\n",
       "      <td>0.57104</td>\n",
       "      <td>0.41004</td>\n",
       "      <td>0.25492</td>\n",
       "      <td>2.82596</td>\n",
       "    </tr>\n",
       "  </tbody>\n",
       "</table>\n",
       "</div>"
      ],
      "text/plain": [
       "       Country          Region  Happy_Rank  Happy_Score  lconf_level  \\\n",
       "0      Denmark  Western Europe           1        7.526        7.460   \n",
       "1  Switzerland  Western Europe           2        7.509        7.428   \n",
       "2      Iceland  Western Europe           3        7.501        7.333   \n",
       "3       Norway  Western Europe           4        7.498        7.421   \n",
       "4      Finland  Western Europe           5        7.413        7.351   \n",
       "\n",
       "   Hconf_level  Economy   Family   Health  Freedom    Trust  Generosity  \\\n",
       "0        7.592  1.44178  1.16374  0.79504  0.57941  0.44453     0.36171   \n",
       "1        7.590  1.52733  1.14524  0.86303  0.58557  0.41203     0.28083   \n",
       "2        7.669  1.42666  1.18326  0.86733  0.56624  0.14975     0.47678   \n",
       "3        7.575  1.57744  1.12690  0.79579  0.59609  0.35776     0.37895   \n",
       "4        7.475  1.40598  1.13464  0.81091  0.57104  0.41004     0.25492   \n",
       "\n",
       "   Dystopia_res  \n",
       "0       2.73939  \n",
       "1       2.69463  \n",
       "2       2.83137  \n",
       "3       2.66465  \n",
       "4       2.82596  "
      ]
     },
     "execution_count": 4,
     "metadata": {},
     "output_type": "execute_result"
    }
   ],
   "source": [
    "# display the first records\n",
    "happy_df.limit(5).toPandas()"
   ]
  },
  {
   "cell_type": "markdown",
   "metadata": {
    "editable": true
   },
   "source": [
    "### Step 3: Define the Data Model\n",
    "\n",
    "### 3.1 Conceptual Data Model\n",
    "![Database schema](Capstone_project_happy_data_model.jpg)\n",
    "\n",
    "In this project we have 5 dimensions table and 1 fact table. \n",
    "The airport dimension table comes from airport_codes_csv and link to fact table through the i94port field.\n",
    "The country dimension table is made up of data from the immigration datasets and link to fact table through the country_code field.\n",
    "The happiness dimension table comes from the happiness dataset and links to the immigration fact table through the country_code field. \n",
    "The visa type dimension table comes from the immigration datasets and links to the immigaration through the visa_type_key field. \n",
    "The immigration fact table is the heart of the data model. This table's data comes from the immigration data sets and contains keys that links to the dimension tables.\n",
    "\n",
    "### 3.2 Mapping Out Data Pipelines\n",
    "The pipeline steps are as follows:\n",
    "* Load the datasets and analysis data\n",
    "* Clean all data missing data and column \n",
    "* Create visa_type, country, immigration calendar, happiness and airport dimension table\n",
    "* Create immigration fact table\n",
    "* Checking the number of data"
   ]
  },
  {
   "cell_type": "code",
   "execution_count": 23,
   "metadata": {
    "editable": true
   },
   "outputs": [],
   "source": [
    "def create_country_dim(df, output_data):\n",
    "    \"\"\"This function creates a country table\n",
    "\n",
    "    :param df: spark dataframe of immigration events\n",
    "    :param output_data: path to write dimension dataframe\n",
    "    :return: spark dataframe country dimension\n",
    "    \"\"\"\n",
    "    # load state csv\n",
    "    map_codes = pd.read_csv('i94_state.csv')\n",
    "    \n",
    "    @udf()\n",
    "    def get_country_name(code):\n",
    "        name = map_codes[map_codes['code']==code]['Name'].iloc[0]\n",
    "        if name:\n",
    "            return name.title()\n",
    "        return None\n",
    "        \n",
    "    # select and rename i94_state column\n",
    "    country_df = df.select(['i94res']).distinct().withColumnRenamed('i94res', 'country_code')\n",
    "    \n",
    "    # create country_name column\n",
    "    country_df = country_df.withColumn('country_name', get_country_name(country_df.country_code))\n",
    "    \n",
    "    # write the dimension to a parquet file\n",
    "    country_df.write.parquet(output_data + \"country\", mode=\"overwrite\")\n",
    "    \n",
    "    return country_df"
   ]
  },
  {
   "cell_type": "code",
   "execution_count": 19,
   "metadata": {
    "editable": true
   },
   "outputs": [],
   "source": [
    "def create_happiness_dim(df, output_data):\n",
    "    \"\"\"This function create happiness dimension table\n",
    "    \n",
    "    :param df: spark dataframe of happiness data\n",
    "    :param output_data: path to write dimension dataframe\n",
    "    :return: spark dataframe happiness dimension\n",
    "    \"\"\"\n",
    "    # load state csv\n",
    "    map_codes = pd.read_csv('i94_state.csv')\n",
    "    \n",
    "    # Title name\n",
    "    map_codes['Name'] = map_codes['Name'].str.title() \n",
    "    \n",
    "    @udf()\n",
    "    def get_country_code(name):\n",
    "        code = map_codes['code'] [map_codes['Name']==name].iloc[0]\n",
    "        if code:\n",
    "            return code\n",
    "        return None\n",
    "\n",
    "    # create country_id column\n",
    "    #df = df.withColumn('Country_id', get_country_code(df.Country))\n",
    "    \n",
    "    # write dimension to parquet file\n",
    "    df.write.parquet(output_data + \"happiness\", mode=\"overwrite\")\n",
    "    \n",
    "    return df"
   ]
  },
  {
   "cell_type": "code",
   "execution_count": 20,
   "metadata": {
    "editable": true
   },
   "outputs": [
    {
     "name": "stdout",
     "output_type": "stream",
     "text": [
      "+-----------+--------------+----------+-----------+-----------+-----------+-------+-------+-------+-------+-------+----------+------------+\n",
      "|    Country|        Region|Happy_Rank|Happy_Score|lconf_level|Hconf_level|Economy| Family| Health|Freedom|  Trust|Generosity|Dystopia_res|\n",
      "+-----------+--------------+----------+-----------+-----------+-----------+-------+-------+-------+-------+-------+----------+------------+\n",
      "|    Denmark|Western Europe|         1|      7.526|       7.46|      7.592|1.44178|1.16374|0.79504|0.57941|0.44453|   0.36171|     2.73939|\n",
      "|Switzerland|Western Europe|         2|      7.509|      7.428|       7.59|1.52733|1.14524|0.86303|0.58557|0.41203|   0.28083|     2.69463|\n",
      "|    Iceland|Western Europe|         3|      7.501|      7.333|      7.669|1.42666|1.18326|0.86733|0.56624|0.14975|   0.47678|     2.83137|\n",
      "|     Norway|Western Europe|         4|      7.498|      7.421|      7.575|1.57744| 1.1269|0.79579|0.59609|0.35776|   0.37895|     2.66465|\n",
      "|    Finland|Western Europe|         5|      7.413|      7.351|      7.475|1.40598|1.13464|0.81091|0.57104|0.41004|   0.25492|     2.82596|\n",
      "+-----------+--------------+----------+-----------+-----------+-----------+-------+-------+-------+-------+-------+----------+------------+\n",
      "only showing top 5 rows\n",
      "\n"
     ]
    }
   ],
   "source": [
    "output_data = \"data_tables/\"\n",
    "happiness_dim_df = create_happiness_dim(happy_df, output_data)\n",
    "\n",
    "# show first 5 \n",
    "happiness_dim_df.show(5)"
   ]
  }
 ],
 "metadata": {
  "kernelspec": {
   "display_name": "Python 3",
   "language": "python",
   "name": "python3"
  },
  "language_info": {
   "codemirror_mode": {
    "name": "ipython",
    "version": 3
   },
   "file_extension": ".py",
   "mimetype": "text/x-python",
   "name": "python",
   "nbconvert_exporter": "python",
   "pygments_lexer": "ipython3",
   "version": "3.6.3"
  }
 },
 "nbformat": 4,
 "nbformat_minor": 4
}
