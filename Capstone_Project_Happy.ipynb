{
 "cells": [
  {
   "cell_type": "markdown",
   "metadata": {
    "editable": true
   },
   "source": [
    "# Data Engineering Capstone Project Happy\n",
    "\n",
    "#### Project Summary\n",
    "The goal of this project was to create ETL pipleine for immigration, airport data, state and world happiness rating data. We could try to find answears to questions such as, do people from countries with unhappy or happy rating immigrate to the US in large numbers, or which airport is more frequent for immigrants.\n",
    "\n",
    "\n",
    "The project follows the follow steps:\n",
    "* Step 1: Scope the Project and Gather Data\n",
    "* Step 2: Explore and Assess the Data\n",
    "* Step 3: Define the Data Model\n",
    "* Step 4: Run ETL to Model the Data\n",
    "* Step 5: Complete Project Write Up"
   ]
  },
  {
   "cell_type": "markdown",
   "metadata": {
    "editable": true
   },
   "source": [
    "### Import libraries"
   ]
  },
  {
   "cell_type": "code",
   "execution_count": 1,
   "metadata": {
    "editable": true
   },
   "outputs": [],
   "source": [
    "# Imports and installs\n",
    "import pandas as pd\n",
    "import importlib\n",
    "import os\n",
    "import configparser\n",
    "import datetime as dt\n",
    "\n",
    "from pyspark.sql import SparkSession\n",
    "from pyspark.sql.functions import monotonically_increasing_id\n",
    "from pyspark.sql.functions import isnan, when, count, col, udf, dayofmonth, dayofweek, month, year, weekofyear\n",
    "\n"
   ]
  },
  {
   "cell_type": "markdown",
   "metadata": {
    "editable": true
   },
   "source": [
    "### Load Configuration Data and Spark Session"
   ]
  },
  {
   "cell_type": "code",
   "execution_count": 2,
   "metadata": {
    "editable": true
   },
   "outputs": [],
   "source": [
    "config = configparser.ConfigParser()\n",
    "config.read('iam.cfg')\n",
    "os.environ['AWS_ACCESS_KEY_ID']=config['AWS_CREDS']['AWS_ACCESS_KEY_ID']\n",
    "os.environ['AWS_SECRET_ACCESS_KEY']=config['AWS_CREDS']['AWS_SECRET_ACCESS_KEY']\n",
    "\n",
    "spark = SparkSession.builder.\\\n",
    "    config(\"spark.jars.packages\",\"saurfang:spark-sas7bdat:2.0.0-s_2.11\").\\\n",
    "    enableHiveSupport().getOrCreate()"
   ]
  },
  {
   "cell_type": "markdown",
   "metadata": {
    "editable": true
   },
   "source": [
    "### Step 1: Scope the Project and Gather Data\n",
    "\n",
    "To create the database through the following steps:\n",
    "* Use Spark to load the data into dataframes.\n",
    "* Data analysis and data cleaning of I94 immigration dataset, airport dataset, state and world happiness rating data.\n",
    "* Create immigration calendar dimension table from I94 immigration dataset and this table links to the fact table through the arrdate field.\n",
    "* Create country dimension table from the I94 immigration dataset. \n",
    "* Create airport dimension table from the airport data and this table links to the fact table through the i94port field.\n",
    "* Create happiness dimension table from the happiness data and this table links to the fact table through the state code field.\n",
    "* Create visa dimension table from the I94 immigration data and this table links to the fact table through the visa_type_key field.\n",
    "* Create fact table from the clean I94 immigration dataset and the visa_type dimension."
   ]
  },
  {
   "cell_type": "markdown",
   "metadata": {
    "editable": true
   },
   "source": [
    "#### I94 Immigration dataset\n",
    "<hr style=\"background-color: #b7d0e2;\"/> \n",
    "\n",
    "Import and check immigration dataset"
   ]
  },
  {
   "cell_type": "code",
   "execution_count": 3,
   "metadata": {
    "editable": true
   },
   "outputs": [
    {
     "data": {
      "text/plain": [
       "3096313"
      ]
     },
     "execution_count": 3,
     "metadata": {},
     "output_type": "execute_result"
    }
   ],
   "source": [
    "# Read in the data and count\n",
    "imm_df =spark.read.format('com.github.saurfang.sas.spark').load('../../data/18-83510-I94-Data-2016/i94_apr16_sub.sas7bdat')\n",
    "imm_df.count()"
   ]
  },
  {
   "cell_type": "code",
   "execution_count": 4,
   "metadata": {
    "editable": true
   },
   "outputs": [
    {
     "data": {
      "text/html": [
       "<div>\n",
       "<style scoped>\n",
       "    .dataframe tbody tr th:only-of-type {\n",
       "        vertical-align: middle;\n",
       "    }\n",
       "\n",
       "    .dataframe tbody tr th {\n",
       "        vertical-align: top;\n",
       "    }\n",
       "\n",
       "    .dataframe thead th {\n",
       "        text-align: right;\n",
       "    }\n",
       "</style>\n",
       "<table border=\"1\" class=\"dataframe\">\n",
       "  <thead>\n",
       "    <tr style=\"text-align: right;\">\n",
       "      <th></th>\n",
       "      <th>cicid</th>\n",
       "      <th>i94yr</th>\n",
       "      <th>i94mon</th>\n",
       "      <th>i94cit</th>\n",
       "      <th>i94res</th>\n",
       "      <th>i94port</th>\n",
       "      <th>arrdate</th>\n",
       "      <th>i94mode</th>\n",
       "      <th>i94addr</th>\n",
       "      <th>depdate</th>\n",
       "      <th>...</th>\n",
       "      <th>entdepu</th>\n",
       "      <th>matflag</th>\n",
       "      <th>biryear</th>\n",
       "      <th>dtaddto</th>\n",
       "      <th>gender</th>\n",
       "      <th>insnum</th>\n",
       "      <th>airline</th>\n",
       "      <th>admnum</th>\n",
       "      <th>fltno</th>\n",
       "      <th>visatype</th>\n",
       "    </tr>\n",
       "  </thead>\n",
       "  <tbody>\n",
       "    <tr>\n",
       "      <th>0</th>\n",
       "      <td>6.0</td>\n",
       "      <td>2016.0</td>\n",
       "      <td>4.0</td>\n",
       "      <td>692.0</td>\n",
       "      <td>692.0</td>\n",
       "      <td>XXX</td>\n",
       "      <td>20573.0</td>\n",
       "      <td>NaN</td>\n",
       "      <td>None</td>\n",
       "      <td>NaN</td>\n",
       "      <td>...</td>\n",
       "      <td>U</td>\n",
       "      <td>None</td>\n",
       "      <td>1979.0</td>\n",
       "      <td>10282016</td>\n",
       "      <td>None</td>\n",
       "      <td>None</td>\n",
       "      <td>None</td>\n",
       "      <td>1.897628e+09</td>\n",
       "      <td>None</td>\n",
       "      <td>B2</td>\n",
       "    </tr>\n",
       "    <tr>\n",
       "      <th>1</th>\n",
       "      <td>7.0</td>\n",
       "      <td>2016.0</td>\n",
       "      <td>4.0</td>\n",
       "      <td>254.0</td>\n",
       "      <td>276.0</td>\n",
       "      <td>ATL</td>\n",
       "      <td>20551.0</td>\n",
       "      <td>1.0</td>\n",
       "      <td>AL</td>\n",
       "      <td>NaN</td>\n",
       "      <td>...</td>\n",
       "      <td>Y</td>\n",
       "      <td>None</td>\n",
       "      <td>1991.0</td>\n",
       "      <td>D/S</td>\n",
       "      <td>M</td>\n",
       "      <td>None</td>\n",
       "      <td>None</td>\n",
       "      <td>3.736796e+09</td>\n",
       "      <td>00296</td>\n",
       "      <td>F1</td>\n",
       "    </tr>\n",
       "    <tr>\n",
       "      <th>2</th>\n",
       "      <td>15.0</td>\n",
       "      <td>2016.0</td>\n",
       "      <td>4.0</td>\n",
       "      <td>101.0</td>\n",
       "      <td>101.0</td>\n",
       "      <td>WAS</td>\n",
       "      <td>20545.0</td>\n",
       "      <td>1.0</td>\n",
       "      <td>MI</td>\n",
       "      <td>20691.0</td>\n",
       "      <td>...</td>\n",
       "      <td>None</td>\n",
       "      <td>M</td>\n",
       "      <td>1961.0</td>\n",
       "      <td>09302016</td>\n",
       "      <td>M</td>\n",
       "      <td>None</td>\n",
       "      <td>OS</td>\n",
       "      <td>6.666432e+08</td>\n",
       "      <td>93</td>\n",
       "      <td>B2</td>\n",
       "    </tr>\n",
       "    <tr>\n",
       "      <th>3</th>\n",
       "      <td>16.0</td>\n",
       "      <td>2016.0</td>\n",
       "      <td>4.0</td>\n",
       "      <td>101.0</td>\n",
       "      <td>101.0</td>\n",
       "      <td>NYC</td>\n",
       "      <td>20545.0</td>\n",
       "      <td>1.0</td>\n",
       "      <td>MA</td>\n",
       "      <td>20567.0</td>\n",
       "      <td>...</td>\n",
       "      <td>None</td>\n",
       "      <td>M</td>\n",
       "      <td>1988.0</td>\n",
       "      <td>09302016</td>\n",
       "      <td>None</td>\n",
       "      <td>None</td>\n",
       "      <td>AA</td>\n",
       "      <td>9.246846e+10</td>\n",
       "      <td>00199</td>\n",
       "      <td>B2</td>\n",
       "    </tr>\n",
       "    <tr>\n",
       "      <th>4</th>\n",
       "      <td>17.0</td>\n",
       "      <td>2016.0</td>\n",
       "      <td>4.0</td>\n",
       "      <td>101.0</td>\n",
       "      <td>101.0</td>\n",
       "      <td>NYC</td>\n",
       "      <td>20545.0</td>\n",
       "      <td>1.0</td>\n",
       "      <td>MA</td>\n",
       "      <td>20567.0</td>\n",
       "      <td>...</td>\n",
       "      <td>None</td>\n",
       "      <td>M</td>\n",
       "      <td>2012.0</td>\n",
       "      <td>09302016</td>\n",
       "      <td>None</td>\n",
       "      <td>None</td>\n",
       "      <td>AA</td>\n",
       "      <td>9.246846e+10</td>\n",
       "      <td>00199</td>\n",
       "      <td>B2</td>\n",
       "    </tr>\n",
       "  </tbody>\n",
       "</table>\n",
       "<p>5 rows × 28 columns</p>\n",
       "</div>"
      ],
      "text/plain": [
       "   cicid   i94yr  i94mon  i94cit  i94res i94port  arrdate  i94mode i94addr  \\\n",
       "0    6.0  2016.0     4.0   692.0   692.0     XXX  20573.0      NaN    None   \n",
       "1    7.0  2016.0     4.0   254.0   276.0     ATL  20551.0      1.0      AL   \n",
       "2   15.0  2016.0     4.0   101.0   101.0     WAS  20545.0      1.0      MI   \n",
       "3   16.0  2016.0     4.0   101.0   101.0     NYC  20545.0      1.0      MA   \n",
       "4   17.0  2016.0     4.0   101.0   101.0     NYC  20545.0      1.0      MA   \n",
       "\n",
       "   depdate   ...     entdepu  matflag  biryear   dtaddto gender insnum  \\\n",
       "0      NaN   ...           U     None   1979.0  10282016   None   None   \n",
       "1      NaN   ...           Y     None   1991.0       D/S      M   None   \n",
       "2  20691.0   ...        None        M   1961.0  09302016      M   None   \n",
       "3  20567.0   ...        None        M   1988.0  09302016   None   None   \n",
       "4  20567.0   ...        None        M   2012.0  09302016   None   None   \n",
       "\n",
       "  airline        admnum  fltno visatype  \n",
       "0    None  1.897628e+09   None       B2  \n",
       "1    None  3.736796e+09  00296       F1  \n",
       "2      OS  6.666432e+08     93       B2  \n",
       "3      AA  9.246846e+10  00199       B2  \n",
       "4      AA  9.246846e+10  00199       B2  \n",
       "\n",
       "[5 rows x 28 columns]"
      ]
     },
     "execution_count": 4,
     "metadata": {},
     "output_type": "execute_result"
    }
   ],
   "source": [
    "# display the first records\n",
    "imm_df.limit(5).toPandas()"
   ]
  },
  {
   "cell_type": "code",
   "execution_count": 9,
   "metadata": {
    "editable": true
   },
   "outputs": [
    {
     "name": "stdout",
     "output_type": "stream",
     "text": [
      "root\n",
      " |-- cicid: double (nullable = true)\n",
      " |-- i94yr: double (nullable = true)\n",
      " |-- i94mon: double (nullable = true)\n",
      " |-- i94cit: double (nullable = true)\n",
      " |-- i94res: double (nullable = true)\n",
      " |-- i94port: string (nullable = true)\n",
      " |-- arrdate: double (nullable = true)\n",
      " |-- i94mode: double (nullable = true)\n",
      " |-- i94addr: string (nullable = true)\n",
      " |-- depdate: double (nullable = true)\n",
      " |-- i94bir: double (nullable = true)\n",
      " |-- i94visa: double (nullable = true)\n",
      " |-- count: double (nullable = true)\n",
      " |-- dtadfile: string (nullable = true)\n",
      " |-- visapost: string (nullable = true)\n",
      " |-- occup: string (nullable = true)\n",
      " |-- entdepa: string (nullable = true)\n",
      " |-- entdepd: string (nullable = true)\n",
      " |-- entdepu: string (nullable = true)\n",
      " |-- matflag: string (nullable = true)\n",
      " |-- biryear: double (nullable = true)\n",
      " |-- dtaddto: string (nullable = true)\n",
      " |-- gender: string (nullable = true)\n",
      " |-- insnum: string (nullable = true)\n",
      " |-- airline: string (nullable = true)\n",
      " |-- admnum: double (nullable = true)\n",
      " |-- fltno: string (nullable = true)\n",
      " |-- visatype: string (nullable = true)\n",
      "\n"
     ]
    }
   ],
   "source": [
    "# dataframe schema\n",
    "imm_df.printSchema()"
   ]
  },
  {
   "cell_type": "markdown",
   "metadata": {
    "editable": true
   },
   "source": [
    "<b><i>Data dictionary - I94 Immigration dataset</i></b>\n",
    "\n",
    "<table class=\"tg\" align=\"left\">\n",
    "  <tr>\n",
    "    <th class=\"tg-0pky\">Feature</th>\n",
    "    <th class=\"tg-0pky\">Description</th>\n",
    "  </tr>\n",
    " <tr><td class=\"tg-0pky\">cicid</td><td class=\"tg-0pky\">Unique record ID</td>\n",
    " <tr><td class=\"tg-0pky\">i94yr</td><td class=\"tg-0pky\">xxxx digit year</td>\n",
    " <tr><td class=\"tg-0pky\">i94mon</td><td class=\"tg-0pky\">xx numeric month</td>\n",
    " <tr><td class=\"tg-0pky\">i94cit</td><td class=\"tg-0pky\">xxx code for immigrant country of birth</td>\n",
    " <tr><td class=\"tg-0pky\">i94res</td><td class=\"tg-0pky\">xxx code for immigrant country of residence </td>\n",
    " <tr><td class=\"tg-0pky\">i94port</td><td class=\"tg-0pky\">xxx code Port of admission</td>\n",
    " <tr><td class=\"tg-0pky\">arrdate</td><td class=\"tg-0pky\">Arrival Date in the USA</td>\n",
    " <tr><td class=\"tg-0pky\">i94mode</td><td class=\"tg-0pky\">Mode of transportation (1 = Air; 2 = Sea; 3 = Land; 9 = Not reported)</td>\n",
    " <tr><td class=\"tg-0pky\">i94addr</td><td class=\"tg-0pky\">USA State of arrival</td>\n",
    " <tr><td class=\"tg-0pky\">depdate</td><td class=\"tg-0pky\">Departure Date from the USA</td>\n",
    " <tr><td class=\"tg-0pky\">i94bir</td><td class=\"tg-0pky\">Age of Respondent in Years</td>\n",
    " <tr><td class=\"tg-0pky\">i94visa</td><td class=\"tg-0pky\">Visa codes categories - 1 = Business; 2 = Pleasure; 3 = Student</td>\n",
    " <tr><td class=\"tg-0pky\">count</td><td class=\"tg-0pky\">Field used for summary statistics</td>\n",
    " <tr><td class=\"tg-0pky\">dtadfile</td><td class=\"tg-0pky\">Character Date Field - Date added to I-94 Files</td>\n",
    " <tr><td class=\"tg-0pky\">visapost</td><td class=\"tg-0pky\">Department of State where where Visa was issued</td>\n",
    " <tr><td class=\"tg-0pky\">occup</td><td class=\"tg-0pky\">Occupation that will be performed in U.S - CIC does not use</td>\n",
    " <tr><td class=\"tg-0pky\">entdepa</td><td class=\"tg-0pky\">Arrival Flag - admitted or paroled into the U.S.</td>\n",
    " <tr><td class=\"tg-0pky\">entdepd</td><td class=\"tg-0pky\">Departure Flag - Departed, lost I-94 or is deceased</td>\n",
    " <tr><td class=\"tg-0pky\">entdepu</td><td class=\"tg-0pky\">Update Flag - Either apprehended, overstayed, adjusted to perm residence - CIC does not use</td>\n",
    " <tr><td class=\"tg-0pky\">matflag</td><td class=\"tg-0pky\">Match flag - Match of arrival and departure records</td>\n",
    " <tr><td class=\"tg-0pky\">biryear</td><td class=\"tg-0pky\">4 digit year of birth</td>\n",
    " <tr><td class=\"tg-0pky\">dtaddto</td><td class=\"tg-0pky\">Character Date Field - Date to which admitted to U.S. (allowed to stay until)</td>\n",
    " <tr><td class=\"tg-0pky\">gender</td><td class=\"tg-0pky\">Non-immigrant sex</td>\n",
    " <tr><td class=\"tg-0pky\">insnum</td><td class=\"tg-0pky\">INS number</td>\n",
    " <tr><td class=\"tg-0pky\">airline</td><td class=\"tg-0pky\">Airline used to arrive in U.S.</td>\n",
    " <tr><td class=\"tg-0pky\">admnum</td><td class=\"tg-0pky\">Admission Number</td>\n",
    " <tr><td class=\"tg-0pky\">fltno</td><td class=\"tg-0pky\">Flight number of Airline used to arrive in U.S.</td>\n",
    " <tr><td class=\"tg-0pky\">visatype</td><td class=\"tg-0pky\">Class of admission legally admitting the non-immigrant to temporarily stay in U.S.</td>\n",
    "</table>"
   ]
  },
  {
   "cell_type": "markdown",
   "metadata": {
    "editable": true
   },
   "source": [
    "#### Airport dataset\n",
    "<hr style=\"background-color: #b7d0e2;\"/> \n",
    "\n",
    "Import and check Airport dataset - iata code is important"
   ]
  },
  {
   "cell_type": "code",
   "execution_count": 6,
   "metadata": {
    "editable": true
   },
   "outputs": [
    {
     "data": {
      "text/plain": [
       "55075"
      ]
     },
     "execution_count": 6,
     "metadata": {},
     "output_type": "execute_result"
    }
   ],
   "source": [
    "# Read in the data and count\n",
    "file_name = \"airport-codes_csv.csv\"\n",
    "airport_df = spark.read.csv(file_name, inferSchema=True, header=True, sep=',')\n",
    "airport_df.count()"
   ]
  },
  {
   "cell_type": "code",
   "execution_count": 7,
   "metadata": {
    "editable": true
   },
   "outputs": [
    {
     "data": {
      "text/html": [
       "<div>\n",
       "<style scoped>\n",
       "    .dataframe tbody tr th:only-of-type {\n",
       "        vertical-align: middle;\n",
       "    }\n",
       "\n",
       "    .dataframe tbody tr th {\n",
       "        vertical-align: top;\n",
       "    }\n",
       "\n",
       "    .dataframe thead th {\n",
       "        text-align: right;\n",
       "    }\n",
       "</style>\n",
       "<table border=\"1\" class=\"dataframe\">\n",
       "  <thead>\n",
       "    <tr style=\"text-align: right;\">\n",
       "      <th></th>\n",
       "      <th>ident</th>\n",
       "      <th>type</th>\n",
       "      <th>name</th>\n",
       "      <th>elevation_ft</th>\n",
       "      <th>continent</th>\n",
       "      <th>iso_country</th>\n",
       "      <th>iso_region</th>\n",
       "      <th>municipality</th>\n",
       "      <th>gps_code</th>\n",
       "      <th>iata_code</th>\n",
       "      <th>local_code</th>\n",
       "      <th>coordinates</th>\n",
       "    </tr>\n",
       "  </thead>\n",
       "  <tbody>\n",
       "    <tr>\n",
       "      <th>0</th>\n",
       "      <td>00A</td>\n",
       "      <td>heliport</td>\n",
       "      <td>Total Rf Heliport</td>\n",
       "      <td>11</td>\n",
       "      <td>NA</td>\n",
       "      <td>US</td>\n",
       "      <td>US-PA</td>\n",
       "      <td>Bensalem</td>\n",
       "      <td>00A</td>\n",
       "      <td>None</td>\n",
       "      <td>00A</td>\n",
       "      <td>-74.93360137939453, 40.07080078125</td>\n",
       "    </tr>\n",
       "    <tr>\n",
       "      <th>1</th>\n",
       "      <td>00AA</td>\n",
       "      <td>small_airport</td>\n",
       "      <td>Aero B Ranch Airport</td>\n",
       "      <td>3435</td>\n",
       "      <td>NA</td>\n",
       "      <td>US</td>\n",
       "      <td>US-KS</td>\n",
       "      <td>Leoti</td>\n",
       "      <td>00AA</td>\n",
       "      <td>None</td>\n",
       "      <td>00AA</td>\n",
       "      <td>-101.473911, 38.704022</td>\n",
       "    </tr>\n",
       "    <tr>\n",
       "      <th>2</th>\n",
       "      <td>00AK</td>\n",
       "      <td>small_airport</td>\n",
       "      <td>Lowell Field</td>\n",
       "      <td>450</td>\n",
       "      <td>NA</td>\n",
       "      <td>US</td>\n",
       "      <td>US-AK</td>\n",
       "      <td>Anchor Point</td>\n",
       "      <td>00AK</td>\n",
       "      <td>None</td>\n",
       "      <td>00AK</td>\n",
       "      <td>-151.695999146, 59.94919968</td>\n",
       "    </tr>\n",
       "    <tr>\n",
       "      <th>3</th>\n",
       "      <td>00AL</td>\n",
       "      <td>small_airport</td>\n",
       "      <td>Epps Airpark</td>\n",
       "      <td>820</td>\n",
       "      <td>NA</td>\n",
       "      <td>US</td>\n",
       "      <td>US-AL</td>\n",
       "      <td>Harvest</td>\n",
       "      <td>00AL</td>\n",
       "      <td>None</td>\n",
       "      <td>00AL</td>\n",
       "      <td>-86.77030181884766, 34.86479949951172</td>\n",
       "    </tr>\n",
       "    <tr>\n",
       "      <th>4</th>\n",
       "      <td>00AR</td>\n",
       "      <td>closed</td>\n",
       "      <td>Newport Hospital &amp; Clinic Heliport</td>\n",
       "      <td>237</td>\n",
       "      <td>NA</td>\n",
       "      <td>US</td>\n",
       "      <td>US-AR</td>\n",
       "      <td>Newport</td>\n",
       "      <td>None</td>\n",
       "      <td>None</td>\n",
       "      <td>None</td>\n",
       "      <td>-91.254898, 35.6087</td>\n",
       "    </tr>\n",
       "  </tbody>\n",
       "</table>\n",
       "</div>"
      ],
      "text/plain": [
       "  ident           type                                name  elevation_ft  \\\n",
       "0   00A       heliport                   Total Rf Heliport            11   \n",
       "1  00AA  small_airport                Aero B Ranch Airport          3435   \n",
       "2  00AK  small_airport                        Lowell Field           450   \n",
       "3  00AL  small_airport                        Epps Airpark           820   \n",
       "4  00AR         closed  Newport Hospital & Clinic Heliport           237   \n",
       "\n",
       "  continent iso_country iso_region  municipality gps_code iata_code  \\\n",
       "0        NA          US      US-PA      Bensalem      00A      None   \n",
       "1        NA          US      US-KS         Leoti     00AA      None   \n",
       "2        NA          US      US-AK  Anchor Point     00AK      None   \n",
       "3        NA          US      US-AL       Harvest     00AL      None   \n",
       "4        NA          US      US-AR       Newport     None      None   \n",
       "\n",
       "  local_code                            coordinates  \n",
       "0        00A     -74.93360137939453, 40.07080078125  \n",
       "1       00AA                 -101.473911, 38.704022  \n",
       "2       00AK            -151.695999146, 59.94919968  \n",
       "3       00AL  -86.77030181884766, 34.86479949951172  \n",
       "4       None                    -91.254898, 35.6087  "
      ]
     },
     "execution_count": 7,
     "metadata": {},
     "output_type": "execute_result"
    }
   ],
   "source": [
    "# display the first records\n",
    "airport_df.limit(5).toPandas()"
   ]
  },
  {
   "cell_type": "code",
   "execution_count": 8,
   "metadata": {
    "editable": true
   },
   "outputs": [
    {
     "name": "stdout",
     "output_type": "stream",
     "text": [
      "root\n",
      " |-- ident: string (nullable = true)\n",
      " |-- type: string (nullable = true)\n",
      " |-- name: string (nullable = true)\n",
      " |-- elevation_ft: integer (nullable = true)\n",
      " |-- continent: string (nullable = true)\n",
      " |-- iso_country: string (nullable = true)\n",
      " |-- iso_region: string (nullable = true)\n",
      " |-- municipality: string (nullable = true)\n",
      " |-- gps_code: string (nullable = true)\n",
      " |-- iata_code: string (nullable = true)\n",
      " |-- local_code: string (nullable = true)\n",
      " |-- coordinates: string (nullable = true)\n",
      "\n"
     ]
    }
   ],
   "source": [
    "# dataframe schema\n",
    "airport_df.printSchema()"
   ]
  },
  {
   "cell_type": "markdown",
   "metadata": {
    "editable": true
   },
   "source": [
    "<b><i>Data dictionary - Airport dataset</i></b>\n",
    "\n",
    "<table class=\"tg\" align=\"left\">\n",
    "  <tr>\n",
    "    <th class=\"tg-0pky\">Feature</th>\n",
    "    <th class=\"tg-0pky\">Description</th>\n",
    "  </tr>\n",
    " <tr><td class=\"tg-0pky\">ident</td><td class=\"tg-0pky\">Ident</td>\n",
    " <tr><td class=\"tg-0pky\">type</td><td class=\"tg-0pky\">Type of airport</td>\n",
    " <tr><td class=\"tg-0pky\">name</td><td class=\"tg-0pky\">Name of airport</td>\n",
    " <tr><td class=\"tg-0pky\">elevation_ft</td><td class=\"tg-0pky\">Elevation of airport in ft</td>\n",
    " <tr><td class=\"tg-0pky\">continent</td><td class=\"tg-0pky\">Continent</td>\n",
    " <tr><td class=\"tg-0pky\">iso_country</td><td class=\"tg-0pky\">Iso country code</td>     \n",
    " <tr><td class=\"tg-0pky\">iso_region</td><td class=\"tg-0pky\">Iso region code</td>\n",
    " <tr><td class=\"tg-0pky\">municipality</td><td class=\"tg-0pky\">Municipality of airport</td>     \n",
    " <tr><td class=\"tg-0pky\">gps_code</td><td class=\"tg-0pky\">Gps code of airport</td>     \n",
    " <tr><td class=\"tg-0pky\">iata_code</td><td class=\"tg-0pky\">Iata code of airport</td>     \n",
    " <tr><td class=\"tg-0pky\">local_code</td><td class=\"tg-0pky\">Local code of airport</td>     \n",
    " <tr><td class=\"tg-0pky\">coordinates</td><td class=\"tg-0pky\">Coordinates od airport</td>         \n",
    "</table>"
   ]
  },
  {
   "cell_type": "markdown",
   "metadata": {
    "editable": true
   },
   "source": [
    "#### World Happiness dataset\n",
    "<hr style=\"background-color: #b7d0e2;\"/> \n",
    "\n",
    "Import and check world happiness dataset for 2016 year"
   ]
  },
  {
   "cell_type": "code",
   "execution_count": 10,
   "metadata": {
    "editable": true
   },
   "outputs": [
    {
     "data": {
      "text/plain": [
       "157"
      ]
     },
     "execution_count": 10,
     "metadata": {},
     "output_type": "execute_result"
    }
   ],
   "source": [
    "# Read in the data and count\n",
    "file_name = \"happiness_2016.csv\"\n",
    "happy_df = spark.read.csv(file_name, inferSchema=True, header=True, sep=',')\n",
    "happy_df.count()"
   ]
  },
  {
   "cell_type": "code",
   "execution_count": 11,
   "metadata": {
    "editable": true
   },
   "outputs": [
    {
     "data": {
      "text/html": [
       "<div>\n",
       "<style scoped>\n",
       "    .dataframe tbody tr th:only-of-type {\n",
       "        vertical-align: middle;\n",
       "    }\n",
       "\n",
       "    .dataframe tbody tr th {\n",
       "        vertical-align: top;\n",
       "    }\n",
       "\n",
       "    .dataframe thead th {\n",
       "        text-align: right;\n",
       "    }\n",
       "</style>\n",
       "<table border=\"1\" class=\"dataframe\">\n",
       "  <thead>\n",
       "    <tr style=\"text-align: right;\">\n",
       "      <th></th>\n",
       "      <th>Country</th>\n",
       "      <th>Region</th>\n",
       "      <th>Happy_Rank</th>\n",
       "      <th>Happy_Score</th>\n",
       "      <th>lconf_level</th>\n",
       "      <th>Hconf_level</th>\n",
       "      <th>Economy</th>\n",
       "      <th>Family</th>\n",
       "      <th>Health</th>\n",
       "      <th>Freedom</th>\n",
       "      <th>Trust</th>\n",
       "      <th>Generosity</th>\n",
       "      <th>Dystopia_res</th>\n",
       "    </tr>\n",
       "  </thead>\n",
       "  <tbody>\n",
       "    <tr>\n",
       "      <th>0</th>\n",
       "      <td>Denmark</td>\n",
       "      <td>Western Europe</td>\n",
       "      <td>1</td>\n",
       "      <td>7.526</td>\n",
       "      <td>7.460</td>\n",
       "      <td>7.592</td>\n",
       "      <td>1.44178</td>\n",
       "      <td>1.16374</td>\n",
       "      <td>0.79504</td>\n",
       "      <td>0.57941</td>\n",
       "      <td>0.44453</td>\n",
       "      <td>0.36171</td>\n",
       "      <td>2.73939</td>\n",
       "    </tr>\n",
       "    <tr>\n",
       "      <th>1</th>\n",
       "      <td>Switzerland</td>\n",
       "      <td>Western Europe</td>\n",
       "      <td>2</td>\n",
       "      <td>7.509</td>\n",
       "      <td>7.428</td>\n",
       "      <td>7.590</td>\n",
       "      <td>1.52733</td>\n",
       "      <td>1.14524</td>\n",
       "      <td>0.86303</td>\n",
       "      <td>0.58557</td>\n",
       "      <td>0.41203</td>\n",
       "      <td>0.28083</td>\n",
       "      <td>2.69463</td>\n",
       "    </tr>\n",
       "    <tr>\n",
       "      <th>2</th>\n",
       "      <td>Iceland</td>\n",
       "      <td>Western Europe</td>\n",
       "      <td>3</td>\n",
       "      <td>7.501</td>\n",
       "      <td>7.333</td>\n",
       "      <td>7.669</td>\n",
       "      <td>1.42666</td>\n",
       "      <td>1.18326</td>\n",
       "      <td>0.86733</td>\n",
       "      <td>0.56624</td>\n",
       "      <td>0.14975</td>\n",
       "      <td>0.47678</td>\n",
       "      <td>2.83137</td>\n",
       "    </tr>\n",
       "    <tr>\n",
       "      <th>3</th>\n",
       "      <td>Norway</td>\n",
       "      <td>Western Europe</td>\n",
       "      <td>4</td>\n",
       "      <td>7.498</td>\n",
       "      <td>7.421</td>\n",
       "      <td>7.575</td>\n",
       "      <td>1.57744</td>\n",
       "      <td>1.12690</td>\n",
       "      <td>0.79579</td>\n",
       "      <td>0.59609</td>\n",
       "      <td>0.35776</td>\n",
       "      <td>0.37895</td>\n",
       "      <td>2.66465</td>\n",
       "    </tr>\n",
       "    <tr>\n",
       "      <th>4</th>\n",
       "      <td>Finland</td>\n",
       "      <td>Western Europe</td>\n",
       "      <td>5</td>\n",
       "      <td>7.413</td>\n",
       "      <td>7.351</td>\n",
       "      <td>7.475</td>\n",
       "      <td>1.40598</td>\n",
       "      <td>1.13464</td>\n",
       "      <td>0.81091</td>\n",
       "      <td>0.57104</td>\n",
       "      <td>0.41004</td>\n",
       "      <td>0.25492</td>\n",
       "      <td>2.82596</td>\n",
       "    </tr>\n",
       "  </tbody>\n",
       "</table>\n",
       "</div>"
      ],
      "text/plain": [
       "       Country          Region  Happy_Rank  Happy_Score  lconf_level  \\\n",
       "0      Denmark  Western Europe           1        7.526        7.460   \n",
       "1  Switzerland  Western Europe           2        7.509        7.428   \n",
       "2      Iceland  Western Europe           3        7.501        7.333   \n",
       "3       Norway  Western Europe           4        7.498        7.421   \n",
       "4      Finland  Western Europe           5        7.413        7.351   \n",
       "\n",
       "   Hconf_level  Economy   Family   Health  Freedom    Trust  Generosity  \\\n",
       "0        7.592  1.44178  1.16374  0.79504  0.57941  0.44453     0.36171   \n",
       "1        7.590  1.52733  1.14524  0.86303  0.58557  0.41203     0.28083   \n",
       "2        7.669  1.42666  1.18326  0.86733  0.56624  0.14975     0.47678   \n",
       "3        7.575  1.57744  1.12690  0.79579  0.59609  0.35776     0.37895   \n",
       "4        7.475  1.40598  1.13464  0.81091  0.57104  0.41004     0.25492   \n",
       "\n",
       "   Dystopia_res  \n",
       "0       2.73939  \n",
       "1       2.69463  \n",
       "2       2.83137  \n",
       "3       2.66465  \n",
       "4       2.82596  "
      ]
     },
     "execution_count": 11,
     "metadata": {},
     "output_type": "execute_result"
    }
   ],
   "source": [
    "# display the first records\n",
    "happy_df.limit(5).toPandas()"
   ]
  },
  {
   "cell_type": "code",
   "execution_count": 12,
   "metadata": {
    "editable": true
   },
   "outputs": [
    {
     "name": "stdout",
     "output_type": "stream",
     "text": [
      "root\n",
      " |-- Country: string (nullable = true)\n",
      " |-- Region: string (nullable = true)\n",
      " |-- Happy_Rank: integer (nullable = true)\n",
      " |-- Happy_Score: double (nullable = true)\n",
      " |-- lconf_level: double (nullable = true)\n",
      " |-- Hconf_level: double (nullable = true)\n",
      " |-- Economy: double (nullable = true)\n",
      " |-- Family: double (nullable = true)\n",
      " |-- Health: double (nullable = true)\n",
      " |-- Freedom: double (nullable = true)\n",
      " |-- Trust: double (nullable = true)\n",
      " |-- Generosity: double (nullable = true)\n",
      " |-- Dystopia_res: double (nullable = true)\n",
      "\n"
     ]
    }
   ],
   "source": [
    "# dataframe schema\n",
    "happy_df.printSchema()"
   ]
  },
  {
   "cell_type": "markdown",
   "metadata": {
    "editable": true
   },
   "source": [
    "<b><i>Data dictionary -  World Happiness dataset</i></b>\n",
    "\n",
    "<table class=\"tg\" align=\"left\">\n",
    "  <tr>\n",
    "    <th class=\"tg-0pky\">Feature</th>\n",
    "    <th class=\"tg-0pky\">Description</th>\n",
    "  </tr>\n",
    " <tr><td class=\"tg-0pky\">Country</td><td class=\"tg-0pky\">Name of country</td>\n",
    " <tr><td class=\"tg-0pky\">Region</td><td class=\"tg-0pky\">Region the country</td>\n",
    " <tr><td class=\"tg-0pky\">Happiness_rank</td><td class=\"tg-0pky\">Rank of the country based on the Happiness Score</td>\n",
    " <tr><td class=\"tg-0pky\">Happiness_score</td><td class=\"tg-0pky\">A metric measured in 2015 by asking the sampled people the question: \"How would you rate your happiness\"</td>\n",
    " <tr><td class=\"tg-0pky\">Lower_confidence_interval</td><td class=\"tg-0pky\">Lower Confidence Interval of the Happiness Score</td>\n",
    " <tr><td class=\"tg-0pky\">Upper_confidence_interval</td><td class=\"tg-0pky\">Upper Confidence Interval of the Happiness Score</td>     \n",
    " <tr><td class=\"tg-0pky\">Economy</td><td class=\"tg-0pky\">The extent to which GDP contributes to the calculation of the Happiness Score.</td>\n",
    " <tr><td class=\"tg-0pky\">Family</td><td class=\"tg-0pky\">The extent to which Family contributes to the calculation of the Happiness Score</td>     \n",
    " <tr><td class=\"tg-0pky\">Health</td><td class=\"tg-0pky\">The extent to which Life expectancy contributed to the calculation of the Happiness Score</td>     \n",
    " <tr><td class=\"tg-0pky\">Freedom</td><td class=\"tg-0pky\">The extent to which Freedom contributed to the calculation of the Happiness Score</td>     \n",
    " <tr><td class=\"tg-0pky\">Trust</td><td class=\"tg-0pky\">The extent to which Perception of Corruption contributes to Happiness Score</td>     \n",
    " <tr><td class=\"tg-0pky\">Generosity</td><td class=\"tg-0pky\">The extent to which Generosity contributed to the calculation of the Happiness Score</td>         \n",
    " <tr><td class=\"tg-0pky\">Dystopia_residual</td><td class=\"tg-0pky\">The extent to which Dystopia Residual contributed to the calculation of the Happiness Score.</td>         \n",
    "</table>"
   ]
  },
  {
   "cell_type": "markdown",
   "metadata": {
    "editable": true
   },
   "source": [
    "### Step 2: Explore and Assess the Data\n",
    "#### Explore, cleaning and data analysis"
   ]
  },
  {
   "cell_type": "markdown",
   "metadata": {
    "editable": true
   },
   "source": [
    "#### Cleaning Steps - Immigration data"
   ]
  },
  {
   "cell_type": "code",
   "execution_count": 13,
   "metadata": {
    "editable": true
   },
   "outputs": [
    {
     "data": {
      "text/plain": [
       "cicid             0\n",
       "i94yr             0\n",
       "i94mon            0\n",
       "i94cit            0\n",
       "i94res            0\n",
       "i94port           0\n",
       "arrdate           0\n",
       "i94mode         239\n",
       "i94addr      152592\n",
       "depdate      142457\n",
       "i94bir          802\n",
       "i94visa           0\n",
       "count             0\n",
       "dtadfile          1\n",
       "visapost    1881250\n",
       "occup       3088187\n",
       "entdepa         238\n",
       "entdepd      138429\n",
       "entdepu     3095921\n",
       "matflag      138429\n",
       "biryear         802\n",
       "dtaddto         477\n",
       "gender       414269\n",
       "insnum      2982605\n",
       "airline       83627\n",
       "admnum            0\n",
       "fltno         19549\n",
       "visatype          0\n",
       "dtype: int64"
      ]
     },
     "execution_count": 13,
     "metadata": {},
     "output_type": "execute_result"
    }
   ],
   "source": [
    "# Performing cleaning tasks\n",
    "imm_df.count()\n",
    "\n",
    "# create a nan dataframe \n",
    "nan_df = imm_df.select([count(when(isnan(c) | col(c).isNull(), c)).alias(c) for c in imm_df.columns]).toPandas()\n",
    "\n",
    "# display nan sum\n",
    "nan_df.sum()"
   ]
  },
  {
   "cell_type": "code",
   "execution_count": 14,
   "metadata": {
    "editable": true
   },
   "outputs": [],
   "source": [
    "# columns for drop - over 2.000.000 nan values\n",
    "cols = ['occup', 'entdepu','insnum']\n",
    "\n",
    "# drop columns\n",
    "new_imm_df = imm_df.drop(*cols)"
   ]
  },
  {
   "cell_type": "code",
   "execution_count": 15,
   "metadata": {
    "editable": true
   },
   "outputs": [
    {
     "data": {
      "text/plain": [
       "3096313"
      ]
     },
     "execution_count": 15,
     "metadata": {},
     "output_type": "execute_result"
    }
   ],
   "source": [
    "# Total records after dropping rows with missing values\n",
    "\n",
    "new_imm_df.count()"
   ]
  },
  {
   "cell_type": "markdown",
   "metadata": {
    "editable": true
   },
   "source": [
    "#### Cleaning Steps - Airport data"
   ]
  },
  {
   "cell_type": "code",
   "execution_count": 16,
   "metadata": {
    "editable": true
   },
   "outputs": [
    {
     "data": {
      "text/plain": [
       "ident               0\n",
       "type                0\n",
       "name                0\n",
       "elevation_ft     7006\n",
       "continent           0\n",
       "iso_country         0\n",
       "iso_region          0\n",
       "municipality     5676\n",
       "gps_code        14045\n",
       "iata_code       45886\n",
       "local_code      26389\n",
       "coordinates         0\n",
       "dtype: int64"
      ]
     },
     "execution_count": 16,
     "metadata": {},
     "output_type": "execute_result"
    }
   ],
   "source": [
    "# Performing cleaning tasks\n",
    "airport_df.count()\n",
    "\n",
    "# create a nan dataframe \n",
    "nan_df = airport_df.select([count(when(isnan(c) | col(c).isNull(), c)).alias(c) for c in airport_df.columns]).toPandas()\n",
    "\n",
    "# display nan sum\n",
    "nan_df.sum()"
   ]
  },
  {
   "cell_type": "code",
   "execution_count": 17,
   "metadata": {
    "editable": true
   },
   "outputs": [],
   "source": [
    "# drop rows with missing iata_code\n",
    "airport_df = airport_df.dropna(subset=['iata_code'])"
   ]
  },
  {
   "cell_type": "code",
   "execution_count": 18,
   "metadata": {
    "editable": true
   },
   "outputs": [
    {
     "data": {
      "text/plain": [
       "9189"
      ]
     },
     "execution_count": 18,
     "metadata": {},
     "output_type": "execute_result"
    }
   ],
   "source": [
    "# Total records after dropping rows with missing values\n",
    "\n",
    "airport_df.count()"
   ]
  },
  {
   "cell_type": "markdown",
   "metadata": {
    "editable": true
   },
   "source": [
    "### Step 3: Define the Data Model\n",
    "\n",
    "### 3.1 Conceptual Data Model\n",
    "![Database schema](Capstone_project_happy_data_model.jpg)\n",
    "\n",
    "In this project we have 5 dimensions table and 1 fact table. \n",
    "The airport dimension table comes from airport_codes_csv and link to fact table through the i94port field.\n",
    "The country dimension table is made up of data from the immigration datasets and link to fact table through the country_code field.\n",
    "The happiness dimension table comes from the happiness dataset and links to the immigration fact table through the country_code field. \n",
    "The visa type dimension table comes from the immigration datasets and links to the immigaration through the visa_type_key field. \n",
    "The immigration fact table is the heart of the data model. This table's data comes from the immigration data sets and contains keys that links to the dimension tables.\n",
    "\n",
    "### 3.2 Mapping Out Data Pipelines\n",
    "The pipeline steps are as follows:\n",
    "* Load the datasets and analysis data\n",
    "* Clean all data missing data and column \n",
    "* Create visa_type, country, immigration calendar, happiness and airport dimension table\n",
    "* Create immigration fact table\n",
    "* Checking the number of data"
   ]
  },
  {
   "cell_type": "markdown",
   "metadata": {
    "editable": true
   },
   "source": [
    "### Step 4: Run Pipelines to Model the Data \n",
    "#### 4.1 Create the data model\n",
    "Build the data pipelines to create the data model."
   ]
  },
  {
   "cell_type": "markdown",
   "metadata": {
    "editable": true
   },
   "source": [
    "##### Create immcalendar dimension table\n",
    "---"
   ]
  },
  {
   "cell_type": "code",
   "execution_count": 21,
   "metadata": {
    "editable": true
   },
   "outputs": [],
   "source": [
    "# Create immcalendar dimension table with new_imm_df\n",
    "\n",
    "# definition output dir and create data\n",
    "output_data = \"data_tables/\"\n",
    "\n",
    "# create udf to convert arrival date to datetime object\n",
    "get_datetime = udf(lambda x: (dt.datetime(1960, 1, 1).date() + dt.timedelta(x)).isoformat() if x else None)\n",
    "\n",
    "immcal_df = new_imm_df\n",
    "\n",
    "# create calendar df from arrdate column\n",
    "immcal_df = new_imm_df.select(['arrdate']).withColumn(\"arrdate\", get_datetime(immcal_df.arrdate)).distinct()\n",
    "    \n",
    "# expand df adding other columns\n",
    "immcal_df = immcal_df.withColumn('arrival_day', dayofmonth('arrdate'))\n",
    "immcal_df = immcal_df.withColumn('arrival_week', weekofyear('arrdate'))\n",
    "immcal_df = immcal_df.withColumn('arrival_month', month('arrdate'))\n",
    "immcal_df = immcal_df.withColumn('arrival_year', year('arrdate'))\n",
    "immcal_df = immcal_df.withColumn('arrival_weekday', dayofweek('arrdate'))\n",
    "\n",
    "# create id \n",
    "immcal_df = immcal_df.withColumn('id', monotonically_increasing_id())\n",
    "    \n",
    "# write to parquet file\n",
    "immcal_df.write.parquet(output_data + \"immigration_calendar\", mode=\"overwrite\")"
   ]
  },
  {
   "cell_type": "code",
   "execution_count": 22,
   "metadata": {
    "editable": true
   },
   "outputs": [
    {
     "name": "stdout",
     "output_type": "stream",
     "text": [
      "+----------+-----------+------------+-------------+------------+---------------+------------+\n",
      "|   arrdate|arrival_day|arrival_week|arrival_month|arrival_year|arrival_weekday|          id|\n",
      "+----------+-----------+------------+-------------+------------+---------------+------------+\n",
      "|2026-04-15|         15|          16|            4|        2026|              4| 34359738368|\n",
      "|2026-04-07|          7|          15|            4|        2026|              3| 68719476736|\n",
      "|2026-04-24|         24|          17|            4|        2026|              6|154618822656|\n",
      "|2026-05-01|          1|          18|            5|        2026|              6|180388626432|\n",
      "|2026-04-10|         10|          15|            4|        2026|              6|249108103168|\n",
      "+----------+-----------+------------+-------------+------------+---------------+------------+\n",
      "only showing top 5 rows\n",
      "\n"
     ]
    }
   ],
   "source": [
    "# show first 5 \n",
    "immcal_df.show(5)"
   ]
  },
  {
   "cell_type": "markdown",
   "metadata": {
    "editable": true
   },
   "source": [
    "##### Create the country dimension table\n",
    "---"
   ]
  },
  {
   "cell_type": "code",
   "execution_count": 30,
   "metadata": {
    "editable": true
   },
   "outputs": [],
   "source": [
    "# Create the country dimension table with new_imm_df\n",
    "\n",
    "# load state csv\n",
    "map_codes = pd.read_csv('i94_state.csv')\n",
    "\n",
    "@udf()\n",
    "def get_country_name(code):\n",
    "    name = map_codes[map_codes['code']==code]['Name'].iloc[0]\n",
    "    if name:\n",
    "        return name.title()\n",
    "    return None\n",
    "    \n",
    "# select and rename i94_state column\n",
    "country_df = new_imm_df.select(['i94res']).distinct().withColumnRenamed('i94res', 'country_code')\n",
    "    \n",
    "# create country_name column\n",
    "country_df = country_df.withColumn('country_name', get_country_name(country_df.country_code))\n",
    "   \n",
    "# write the dimension to a parquet file\n",
    "country_df.write.parquet(output_data + \"country\", mode=\"overwrite\")"
   ]
  },
  {
   "cell_type": "code",
   "execution_count": 31,
   "metadata": {
    "editable": true
   },
   "outputs": [
    {
     "name": "stdout",
     "output_type": "stream",
     "text": [
      "+------------+------------+\n",
      "|country_code|country_name|\n",
      "+------------+------------+\n",
      "|       692.0|     Ecuador|\n",
      "|       299.0|    Mongolia|\n",
      "|       576.0| El Salvador|\n",
      "|       735.0|  Montenegro|\n",
      "|       206.0|   Hong Kong|\n",
      "+------------+------------+\n",
      "only showing top 5 rows\n",
      "\n"
     ]
    }
   ],
   "source": [
    "# show first 5 \n",
    "country_df.show(5)"
   ]
  },
  {
   "cell_type": "markdown",
   "metadata": {
    "editable": true
   },
   "source": [
    "##### Create visa dimension table\n",
    "---"
   ]
  },
  {
   "cell_type": "code",
   "execution_count": 32,
   "metadata": {
    "editable": true
   },
   "outputs": [],
   "source": [
    "# Create visa dimension table with new_imm_df\n",
    "\n",
    "# create visa df \n",
    "visa_df = new_imm_df.select(['visatype']).distinct()\n",
    "   \n",
    "# add id column\n",
    "visa_df = visa_df.withColumn('visa_key', monotonically_increasing_id())\n",
    "    \n",
    "# write dimension to parquet file\n",
    "visa_df.write.parquet(output_data + \"visatype\", mode=\"overwrite\")"
   ]
  },
  {
   "cell_type": "code",
   "execution_count": 34,
   "metadata": {
    "editable": true
   },
   "outputs": [
    {
     "name": "stdout",
     "output_type": "stream",
     "text": [
      "+--------+------------+\n",
      "|visatype|    visa_key|\n",
      "+--------+------------+\n",
      "|      F2|103079215104|\n",
      "|     GMB|352187318272|\n",
      "|      B2|369367187456|\n",
      "|      F1|498216206336|\n",
      "|     CPL|601295421440|\n",
      "+--------+------------+\n",
      "only showing top 5 rows\n",
      "\n"
     ]
    }
   ],
   "source": [
    "# show first 5 \n",
    "visa_df.show(5)"
   ]
  },
  {
   "cell_type": "markdown",
   "metadata": {
    "editable": true
   },
   "source": [
    "##### Create airport dimension table\n",
    "---"
   ]
  },
  {
   "cell_type": "code",
   "execution_count": 37,
   "metadata": {
    "editable": true
   },
   "outputs": [],
   "source": [
    "# Create airport dimension table\n",
    "     \n",
    "# write dimension to parquet file\n",
    "airport_df.write.parquet(output_data + \"airport\", mode=\"overwrite\")"
   ]
  },
  {
   "cell_type": "code",
   "execution_count": 38,
   "metadata": {
    "editable": true
   },
   "outputs": [
    {
     "name": "stdout",
     "output_type": "stream",
     "text": [
      "+-----+-------------+--------------------+------------+---------+-----------+----------+-------------+--------+---------+----------+--------------------+\n",
      "|ident|         type|                name|elevation_ft|continent|iso_country|iso_region| municipality|gps_code|iata_code|local_code|         coordinates|\n",
      "+-----+-------------+--------------------+------------+---------+-----------+----------+-------------+--------+---------+----------+--------------------+\n",
      "|  03N|small_airport|      Utirik Airport|           4|       OC|         MH|    MH-UTI|Utirik Island|    K03N|      UTK|       03N|  169.852005, 11.222|\n",
      "| 07FA|small_airport|Ocean Reef Club A...|           8|       NA|         US|     US-FL|    Key Largo|    07FA|      OCA|      07FA|-80.274803161621,...|\n",
      "|  0AK|small_airport|Pilot Station Air...|         305|       NA|         US|     US-AK|Pilot Station|    null|      PQS|       0AK|-162.899994, 61.9...|\n",
      "| 0CO2|small_airport|Crested Butte Air...|        8980|       NA|         US|     US-CO|Crested Butte|    0CO2|      CSE|      0CO2|-106.928341, 38.8...|\n",
      "| 0TE7|small_airport|   LBJ Ranch Airport|        1515|       NA|         US|     US-TX| Johnson City|    0TE7|      JCY|      0TE7|-98.6224975585999...|\n",
      "+-----+-------------+--------------------+------------+---------+-----------+----------+-------------+--------+---------+----------+--------------------+\n",
      "only showing top 5 rows\n",
      "\n"
     ]
    }
   ],
   "source": [
    "# show first 5 \n",
    "airport_df.show(5)"
   ]
  },
  {
   "cell_type": "markdown",
   "metadata": {
    "editable": true
   },
   "source": [
    "##### Create happiness fact table\n",
    "---"
   ]
  },
  {
   "cell_type": "code",
   "execution_count": 39,
   "metadata": {
    "editable": true
   },
   "outputs": [],
   "source": [
    "# Create happiness fact table\n",
    "    \n",
    "# load state csv\n",
    "map_codes = pd.read_csv('i94_state.csv')\n",
    "    \n",
    "# Title name\n",
    "map_codes['Name'] = map_codes['Name'].str.title() \n",
    "    \n",
    "@udf()\n",
    "def get_country_code(name):\n",
    "    code = map_codes[map_codes['Name'] == name]['code']\n",
    "    if not code.empty:\n",
    "         return str(code.iloc[0])\n",
    "    else:\n",
    "         return None\n",
    "\n",
    "# create country_id column\n",
    "happy_df = happy_df.withColumn('Country_id', get_country_code(happy_df.Country))\n",
    "    \n",
    "# write dimension to parquet file\n",
    "happy_df.write.parquet(output_data + \"happiness\", mode=\"overwrite\")"
   ]
  },
  {
   "cell_type": "code",
   "execution_count": 40,
   "metadata": {
    "editable": true
   },
   "outputs": [
    {
     "name": "stdout",
     "output_type": "stream",
     "text": [
      "+-----------+--------------+----------+-----------+-----------+-----------+-------+-------+-------+-------+-------+----------+------------+----------+\n",
      "|    Country|        Region|Happy_Rank|Happy_Score|lconf_level|Hconf_level|Economy| Family| Health|Freedom|  Trust|Generosity|Dystopia_res|Country_id|\n",
      "+-----------+--------------+----------+-----------+-----------+-----------+-------+-------+-------+-------+-------+----------+------------+----------+\n",
      "|    Denmark|Western Europe|         1|      7.526|       7.46|      7.592|1.44178|1.16374|0.79504|0.57941|0.44453|   0.36171|     2.73939|       108|\n",
      "|Switzerland|Western Europe|         2|      7.509|      7.428|       7.59|1.52733|1.14524|0.86303|0.58557|0.41203|   0.28083|     2.69463|       131|\n",
      "|    Iceland|Western Europe|         3|      7.501|      7.333|      7.669|1.42666|1.18326|0.86733|0.56624|0.14975|   0.47678|     2.83137|       115|\n",
      "|     Norway|Western Europe|         4|      7.498|      7.421|      7.575|1.57744| 1.1269|0.79579|0.59609|0.35776|   0.37895|     2.66465|       124|\n",
      "|    Finland|Western Europe|         5|      7.413|      7.351|      7.475|1.40598|1.13464|0.81091|0.57104|0.41004|   0.25492|     2.82596|       110|\n",
      "+-----------+--------------+----------+-----------+-----------+-----------+-------+-------+-------+-------+-------+----------+------------+----------+\n",
      "only showing top 5 rows\n",
      "\n"
     ]
    }
   ],
   "source": [
    "# show first 5 \n",
    "happy_df.show(5)"
   ]
  },
  {
   "cell_type": "markdown",
   "metadata": {
    "editable": true
   },
   "source": [
    "##### Create immigration fact table\n",
    "---"
   ]
  },
  {
   "cell_type": "code",
   "execution_count": 43,
   "metadata": {
    "editable": true
   },
   "outputs": [],
   "source": [
    "# Create immigration fact table\n",
    "   \n",
    "# read visa_dim\n",
    "dim_df = spark.read.parquet(output_data + \"visatype\").toPandas()\n",
    "        \n",
    "@udf('string')\n",
    "def get_visa_key(visa_type):\n",
    "    key_series = dim_df[dim_df['visatype']==visa_type]['visa_key']\n",
    "        \n",
    "    if not key_series.empty:\n",
    "        return str(key_series.iloc[0])\n",
    "    return None\n",
    "       \n",
    "# create udf to convert arrival date to datetime object\n",
    "get_datetime = udf(lambda x: (dt.datetime(1960, 1, 1).date() + dt.timedelta(x)).isoformat() if x else None)\n",
    "    \n",
    "# rename columns \n",
    "new_imm_df = new_imm_df.withColumnRenamed('cicid','id') \\\n",
    "            .withColumnRenamed('i94res', 'country_code') \\\n",
    "            .withColumnRenamed('i94addr', 'state_code') \n",
    "    \n",
    "# create visa_type key\n",
    "new_imm_df = new_imm_df.withColumn('visa_type_key', get_visa_key('visatype'))\n",
    "    \n",
    "# convert arrival date into datetime object\n",
    "new_imm_df = new_imm_df.withColumn(\"arrdate\", get_datetime(new_imm_df.arrdate))\n",
    "    \n",
    "# write dimension to parquet file\n",
    "new_imm_df.write.parquet(output_data + \"immigration_fact\", mode=\"overwrite\")\n"
   ]
  },
  {
   "cell_type": "code",
   "execution_count": 45,
   "metadata": {
    "editable": true
   },
   "outputs": [
    {
     "name": "stdout",
     "output_type": "stream",
     "text": [
      "+----+------+------+------+------------+-------+----------+-------+----------+-------+------+-------+-----+--------+--------+-------+-------+-------+-------+--------+------+-------+--------------+-----+--------+-------------+\n",
      "|  id| i94yr|i94mon|i94cit|country_code|i94port|   arrdate|i94mode|state_code|depdate|i94bir|i94visa|count|dtadfile|visapost|entdepa|entdepd|matflag|biryear| dtaddto|gender|airline|        admnum|fltno|visatype|visa_type_key|\n",
      "+----+------+------+------+------------+-------+----------+-------+----------+-------+------+-------+-----+--------+--------+-------+-------+-------+-------+--------+------+-------+--------------+-----+--------+-------------+\n",
      "| 6.0|2016.0|   4.0| 692.0|       692.0|    XXX|2026-04-30|   null|      null|   null|  37.0|    2.0|  1.0|    null|    null|      T|   null|   null| 1979.0|10282016|  null|   null| 1.897628485E9| null|      B2| 369367187456|\n",
      "| 7.0|2016.0|   4.0| 254.0|       276.0|    ATL|2026-04-08|    1.0|        AL|   null|  25.0|    3.0|  1.0|20130811|     SEO|      G|   null|   null| 1991.0|     D/S|     M|   null|  3.73679633E9|00296|      F1| 498216206336|\n",
      "|15.0|2016.0|   4.0| 101.0|       101.0|    WAS|2026-04-02|    1.0|        MI|20691.0|  55.0|    2.0|  1.0|20160401|    null|      T|      O|      M| 1961.0|09302016|     M|     OS|  6.66643185E8|   93|      B2| 369367187456|\n",
      "|16.0|2016.0|   4.0| 101.0|       101.0|    NYC|2026-04-02|    1.0|        MA|20567.0|  28.0|    2.0|  1.0|20160401|    null|      O|      O|      M| 1988.0|09302016|  null|     AA|9.246846133E10|00199|      B2| 369367187456|\n",
      "|17.0|2016.0|   4.0| 101.0|       101.0|    NYC|2026-04-02|    1.0|        MA|20567.0|   4.0|    2.0|  1.0|20160401|    null|      O|      O|      M| 2012.0|09302016|  null|     AA|9.246846313E10|00199|      B2| 369367187456|\n",
      "+----+------+------+------+------------+-------+----------+-------+----------+-------+------+-------+-----+--------+--------+-------+-------+-------+-------+--------+------+-------+--------------+-----+--------+-------------+\n",
      "only showing top 5 rows\n",
      "\n"
     ]
    }
   ],
   "source": [
    "new_imm_df.show(5)"
   ]
  },
  {
   "cell_type": "markdown",
   "metadata": {
    "editable": true
   },
   "source": [
    "#### 4.2 Data Quality Checks\n",
    "Data count checks on fact and dimension table to be ensure that ETL procedure works fine."
   ]
  },
  {
   "cell_type": "code",
   "execution_count": 49,
   "metadata": {
    "editable": true
   },
   "outputs": [
    {
     "name": "stdout",
     "output_type": "stream",
     "text": [
      "Data quality check for immigration_fact with 3096313 records\n",
      "Data quality check for visa_dim with 17 records\n",
      "Data quality check for airport_dim with 9189 records\n",
      "Data quality check for country_dim with 229 records\n",
      "Data quality check for imcalendar_dim with 30 records\n",
      "Data quality check for happiness_dim with 157 records\n"
     ]
    }
   ],
   "source": [
    "# Perform quality checks here    \n",
    "\n",
    "total_count = new_imm_df.count()\n",
    "print(f\"Data quality check for immigration_fact with {total_count} records\")   \n",
    "\n",
    "total_count = visa_df.count()\n",
    "print(f\"Data quality check for visa_dim with {total_count} records\")  \n",
    "\n",
    "total_count = airport_df.count()\n",
    "print(f\"Data quality check for airport_dim with {total_count} records\")  \n",
    "\n",
    "total_count = country_df.count()\n",
    "print(f\"Data quality check for country_dim with {total_count} records\")  \n",
    "\n",
    "total_count = immcal_df.count()\n",
    "print(f\"Data quality check for imcalendar_dim with {total_count} records\")  \n",
    "\n",
    "total_count = happy_df.count()\n",
    "print(f\"Data quality check for happiness_dim with {total_count} records\")  "
   ]
  },
  {
   "cell_type": "markdown",
   "metadata": {
    "editable": true
   },
   "source": [
    "#### 4.3 Data dictionary \n",
    "\n",
    "##### Fact Table - data dictionary\n",
    "\n",
    "<table class=\"tg\" align=\"left\">\n",
    "  <tr>\n",
    "    <th class=\"tg-0pky\">Feature</th>\n",
    "    <th class=\"tg-0pky\">Description</th>\n",
    "  </tr>\n",
    " <tr><td class=\"tg-0pky\">id</td><td class=\"tg-0pky\">Unique record ID</td></tr>\n",
    " <tr><td class=\"tg-0pky\">country_code</td><td class=\"tg-0pky\">3 digit code for immigrant country of residence </td></tr>    \n",
    " <tr><td class=\"tg-0pky\">visa_type_key</td><td class=\"tg-0pky\">A numerical key that links to the visa_type dimension table</td></tr>\n",
    " <tr><td class=\"tg-0pky\">state_code</td><td class=\"tg-0pky\">US state of arrival</td></tr>\n",
    " <tr><td class=\"tg-0pky\">i94cit</td><td class=\"tg-0pky\">country code for immigrant country of birth</td></tr>\n",
    " <tr><td class=\"tg-0pky\">i94yr</td><td class=\"tg-0pky\">4 digit year</td></tr>\n",
    " <tr><td class=\"tg-0pky\">i94mon</td><td class=\"tg-0pky\">Numeric month</td></tr>\n",
    " <tr><td class=\"tg-0pky\">i94port</td><td class=\"tg-0pky\">Port of admission</td></tr>\n",
    " <tr><td class=\"tg-0pky\">arrdate</td><td class=\"tg-0pky\">Arrival Date in the USA</td></tr>\n",
    " <tr><td class=\"tg-0pky\">i94mode</td><td class=\"tg-0pky\">Mode of transportation (1 = Air; 2 = Sea; 3 = Land; 9 = Not reported)</td></tr>\n",
    " <tr><td class=\"tg-0pky\">depdate</td><td class=\"tg-0pky\">Departure Date from the USA</td></tr>\n",
    " <tr><td class=\"tg-0pky\">i94bir</td><td class=\"tg-0pky\">Age of Respondent in Years</td></tr>\n",
    " <tr><td class=\"tg-0pky\">i94visa</td><td class=\"tg-0pky\">Visa codes collapsed into three categories</td></tr>\n",
    " <tr><td class=\"tg-0pky\">count</td><td class=\"tg-0pky\">Field used for summary statistics</td></tr>\n",
    " <tr><td class=\"tg-0pky\">dtadfile</td><td class=\"tg-0pky\">Character Date Field - Date added to I-94 Files</td></tr>\n",
    " <tr><td class=\"tg-0pky\">visapost</td><td class=\"tg-0pky\">Department of State where where Visa was issued </td></tr>\n",
    " <tr><td class=\"tg-0pky\">entdepa</td><td class=\"tg-0pky\">Arrival Flag - admitted or paroled into the U.S.</td></tr>\n",
    " <tr><td class=\"tg-0pky\">entdepd</td><td class=\"tg-0pky\">Departure Flag - Departed, lost I-94 or is deceased</td></tr>\n",
    " <tr><td class=\"tg-0pky\">matflag</td><td class=\"tg-0pky\">Match flag - Match of arrival and departure records</td></tr>\n",
    " <tr><td class=\"tg-0pky\">biryear</td><td class=\"tg-0pky\">4 digit year of birth</td></tr>\n",
    " <tr><td class=\"tg-0pky\">dtaddto</td><td class=\"tg-0pky\">Character Date Field - Date to which admitted to U.S. (allowed to stay until)</td></tr>\n",
    " <tr><td class=\"tg-0pky\">gender</td><td class=\"tg-0pky\">Non-immigrant sex</td></tr>\n",
    " <tr><td class=\"tg-0pky\">airline</td><td class=\"tg-0pky\">Airline used to arrive in U.S.</td>\n",
    " <tr><td class=\"tg-0pky\">admnum</td><td class=\"tg-0pky\">Admission Number</td>\n",
    " <tr><td class=\"tg-0pky\">fltno</td><td class=\"tg-0pky\">Flight number of Airline used to arrive in U.S.</td>\n",
    "</table>"
   ]
  },
  {
   "cell_type": "markdown",
   "metadata": {
    "editable": true
   },
   "source": [
    "##### Country Dimension Table - data dictionary\n",
    "<p>  \n",
    "<i>The country code and country_name fields</i>\n",
    "</p>\n",
    "<table class=\"tg\" align=\"left\">\n",
    "  <tr>\n",
    "    <th class=\"tg-0pky\">Feature</th>\n",
    "    <th class=\"tg-0pky\">Description</th>\n",
    "  </tr>\n",
    " <tr><td class=\"tg-0pky\">country_code</td><td class=\"tg-0pky\">Unique country code</td></tr>\n",
    " <tr><td class=\"tg-0pky\">country_name</td><td class=\"tg-0pky\">Name of country</td></tr>    \n",
    " </table>"
   ]
  },
  {
   "cell_type": "markdown",
   "metadata": {
    "editable": true
   },
   "source": [
    "##### Visa Type Dimension Table - data dictionary\n",
    "<table class=\"tg\" align=\"left\">\n",
    "  <tr>\n",
    "    <th class=\"tg-0pky\">Feature</th>\n",
    "    <th class=\"tg-0pky\">Description</th>\n",
    "  </tr>\n",
    " <tr><td class=\"tg-0pky\">visa_key</td><td class=\"tg-0pky\">Unique id for each visa issued</td></tr>\n",
    " <tr><td class=\"tg-0pky\">visa_type</td><td class=\"tg-0pky\">Name of visa</td></tr>\n",
    "</table>"
   ]
  },
  {
   "cell_type": "markdown",
   "metadata": {
    "editable": true
   },
   "source": [
    " ##### Immigration Calendar Dimension Table - data dictionary\n",
    "<p>\n",
    "<i>The whole of this dataset comes from the immigration dataset.</i>\n",
    "</p>\n",
    "<table class=\"tg\" align=\"left\">\n",
    "  <tr>\n",
    "    <th class=\"tg-0pky\">Feature</th>\n",
    "    <th class=\"tg-0pky\">Description</th>\n",
    "  </tr>\n",
    " <tr><td class=\"tg-0pky\">id</td><td class=\"tg-0pky\">Unique id</td></tr>\n",
    " <tr><td class=\"tg-0pky\">arrdate</td><td class=\"tg-0pky\">Arrival date into US</td></tr>    \n",
    " <tr><td class=\"tg-0pky\">arrival_year</td><td class=\"tg-0pky\">Arrival year into US</td></tr>\n",
    " <tr><td class=\"tg-0pky\">arrival_month</td><td class=\"tg-0pky\">Arrival MonthS</td></tr>\n",
    " <tr><td class=\"tg-0pky\">arrival_day</td><td class=\"tg-0pky\">Arrival Day</td></tr>\n",
    " <tr><td class=\"tg-0pky\">arrival_week</td><td class=\"tg-0pky\">Arrival Week</td></tr>\n",
    " <tr><td class=\"tg-0pky\">arrival_weekday</td><td class=\"tg-0pky\">Arrival WeekDay</td></tr>\n",
    "</table>"
   ]
  },
  {
   "cell_type": "markdown",
   "metadata": {
    "editable": true
   },
   "source": [
    "##### Airport Dimension Table - data dictionary\n",
    "<p>  \n",
    "<i>The airport data comes from csv file.</i>\n",
    "</p>\n",
    "<table class=\"tg\" align=\"left\">\n",
    "  <tr>\n",
    "    <th class=\"tg-0pky\">Feature</th>\n",
    "    <th class=\"tg-0pky\">Description</th>\n",
    "  </tr>\n",
    " <tr><td class=\"tg-0pky\">ident</td><td class=\"tg-0pky\">Identity</td></tr>\n",
    " <tr><td class=\"tg-0pky\">type</td><td class=\"tg-0pky\">Type</td></tr>    \n",
    " <tr><td class=\"tg-0pky\">name</td><td class=\"tg-0pky\">Name</td></tr>\n",
    " <tr><td class=\"tg-0pky\">elevation_ft</td><td class=\"tg-0pky\">Elevation_ft</td></tr>\n",
    " <tr><td class=\"tg-0pky\">continent</td><td class=\"tg-0pky\">Continent</td></tr>\n",
    " <tr><td class=\"tg-0pky\">iso_county</td><td class=\"tg-0pky\">Iso county</td></tr>\n",
    " <tr><td class=\"tg-0pky\">iso_region</td><td class=\"tg-0pky\">Iso region</td></tr>\n",
    " <tr><td class=\"tg-0pky\">municipality</td><td class=\"tg-0pky\">Municipality</td></tr>\n",
    " <tr><td class=\"tg-0pky\">gps_code</td><td class=\"tg-0pky\">Gps code</td></tr>\n",
    " <tr><td class=\"tg-0pky\">iata_code</td><td class=\"tg-0pky\">Iata code</td></tr>\n",
    " <tr><td class=\"tg-0pky\">coordinates</td><td class=\"tg-0pky\">Coordinates</td></tr>\n",
    "    \n",
    "</table>"
   ]
  },
  {
   "cell_type": "markdown",
   "metadata": {
    "editable": true
   },
   "source": [
    "##### Happiness Dimension Table - data dictionary\n",
    "<p>\n",
    "<i>The whole of this dataset comes from World Happiness Report 2016.</i>\n",
    "</p>\n",
    "\n",
    "<table class=\"tg\" align=\"left\">\n",
    "  <tr>\n",
    "    <th class=\"tg-0pky\">Feature</th>\n",
    "    <th class=\"tg-0pky\">Description</th>\n",
    "  </tr>\n",
    " <tr><td class=\"tg-0pky\">country_id</td><td class=\"tg-0pky\">Country id</td>\n",
    " <tr><td class=\"tg-0pky\">country</td><td class=\"tg-0pky\">Name of the country.</td>\n",
    " <tr><td class=\"tg-0pky\">region</td><td class=\"tg-0pky\">Region the country belongs to.</td>\n",
    " <tr><td class=\"tg-0pky\">happy_rank</td><td class=\"tg-0pky\">Rank of the country based on the Happiness Score</td>\n",
    " <tr><td class=\"tg-0pky\">happy_score</td><td class=\"tg-0pky\">A metric measured by asking the sampled people the question: \"How would you rate your happiness\"</td>\n",
    " <tr><td class=\"tg-0pky\">lconf_level</td><td class=\"tg-0pky\">Lower Confidence Interval of the Happiness Score</td>\n",
    " <tr><td class=\"tg-0pky\">hconf_level</td><td class=\"tg-0pky\">Upper Confidence Interval of the Happiness Score</td>\n",
    " <tr><td class=\"tg-0pky\">economy</td><td class=\"tg-0pky\">The extent to which GDP contributes to the calculation of the Happiness Score.</td>\n",
    " <tr><td class=\"tg-0pky\">family</td><td class=\"tg-0pky\">The extent to which Family contributes to the calculation of the Happiness Score</td>\n",
    " <tr><td class=\"tg-0pky\">healty</td><td class=\"tg-0pky\">The extent to which Life expectancy contributed to the calculation of the Happiness Score</td>\n",
    " <tr><td class=\"tg-0pky\">freedom</td><td class=\"tg-0pky\">The extent to which Freedom contributed to the calculation of the Happiness Score</td>\n",
    " <tr><td class=\"tg-0pky\">trust</td><td class=\"tg-0pky\">The extent to which Perception of Corruption contributes to Happiness Score</td>\n",
    " <tr><td class=\"tg-0pky\">generosity</td><td class=\"tg-0pky\">The extent to which Generosity contributed to the calculation of the Happiness Score</td>\n",
    " <tr><td class=\"tg-0pky\">dystopia_res</td><td class=\"tg-0pky\">The extent to which Dystopia Residual contributed to the calculation of the Happiness Score.</td>\n",
    "</table>"
   ]
  },
  {
   "cell_type": "markdown",
   "metadata": {
    "editable": true
   },
   "source": [
    "#### Step 5: Complete Project Write Up\n",
    "* I use Apache Spark beacause it's ability to handle multiple file formats with large amounts of data and it's fast for big data and large dataset. Immigration data will be updated mounthly and other data yearly. \n",
    " * The data was increased by 100x -  Spark can easyly increase number of nodes in our AWS cluster.\n",
    " * The data populates a dashboard that must be updated on a daily basis by 7am every day - We can use Apache Airflow and schedule data pipline.\n",
    " * The database needed to be accessed by 100+ people - We can use Amazon Redshift."
   ]
  }
 ],
 "metadata": {
  "kernelspec": {
   "display_name": "Python 3",
   "language": "python",
   "name": "python3"
  },
  "language_info": {
   "codemirror_mode": {
    "name": "ipython",
    "version": 3
   },
   "file_extension": ".py",
   "mimetype": "text/x-python",
   "name": "python",
   "nbconvert_exporter": "python",
   "pygments_lexer": "ipython3",
   "version": "3.6.3"
  }
 },
 "nbformat": 4,
 "nbformat_minor": 4
}
